{
 "cells": [
  {
   "cell_type": "code",
   "execution_count": 1,
   "metadata": {},
   "outputs": [
    {
     "name": "stdout",
     "output_type": "stream",
     "text": [
      "Collecting images for Mask\n",
      "Image no 0\n",
      "Image no 1\n",
      "Image no 2\n",
      "Image no 3\n",
      "Image no 4\n",
      "Image no 5\n",
      "Image no 6\n",
      "Image no 7\n",
      "Image no 8\n",
      "Image no 9\n",
      "Image no 10\n",
      "Image no 11\n",
      "Image no 12\n",
      "Image no 13\n",
      "Image no 14\n",
      "Image no 15\n",
      "Image no 16\n",
      "Image no 17\n",
      "Image no 18\n",
      "Image no 19\n",
      "Collecting images for NoMask\n",
      "Image no 0\n",
      "Image no 1\n",
      "Image no 2\n",
      "Image no 3\n",
      "Image no 4\n",
      "Image no 5\n",
      "Image no 6\n",
      "Image no 7\n",
      "Image no 8\n",
      "Image no 9\n",
      "Image no 10\n",
      "Image no 11\n",
      "Image no 12\n",
      "Image no 13\n",
      "Image no 14\n",
      "Image no 15\n",
      "Image no 16\n",
      "Image no 17\n",
      "Image no 18\n",
      "Image no 19\n"
     ]
    }
   ],
   "source": [
    "import cv2\n",
    "import time\n",
    "labels = ['Mask', 'NoMask']\n",
    "\n",
    "number_imgs = 20\n",
    "for label in labels:\n",
    "    !mkdir {'Tensorflow\\workspace\\images\\collectedimages\\\\'+label}\n",
    "    cap = cv2.VideoCapture(0)\n",
    "    cap.set(3, 640)\n",
    "    cap.set(4, 480)\n",
    "    print('Collecting images for {}'.format(label))\n",
    "    time.sleep(5)\n",
    "    for imgnum in range(number_imgs):\n",
    "        IMAGES_PATH = 'D:\\Tensorflow Object Detection\\Mask Detector\\Tensorflow\\workspace\\images\\collectedimages'+'\\{}'.format(label)+'\\{}.jpg'.format(str(imgnum))\n",
    "        print('Image no {}'.format(imgnum))\n",
    "        if cap.isOpened():\n",
    "            ret, frame = cap.read()\n",
    "            cv2.imwrite(IMAGES_PATH, frame)\n",
    "            time.sleep(1)\n",
    "\n",
    "        # load_image = cv2.imread('{}.jpg'.format(label))\n",
    "\n",
    "\n",
    "\n",
    "    if cv2.waitKey(1) == 27:\n",
    "        break\n",
    "\n",
    "    cap.release()\n",
    "    cv2.destroyAllWindows()"
   ]
  },
  {
   "cell_type": "code",
   "execution_count": null,
   "metadata": {},
   "outputs": [],
   "source": []
  }
 ],
 "metadata": {
  "kernelspec": {
   "display_name": "Python 3",
   "language": "python",
   "name": "python3"
  },
  "language_info": {
   "codemirror_mode": {
    "name": "ipython",
    "version": 3
   },
   "file_extension": ".py",
   "mimetype": "text/x-python",
   "name": "python",
   "nbconvert_exporter": "python",
   "pygments_lexer": "ipython3",
   "version": "3.7.3"
  }
 },
 "nbformat": 4,
 "nbformat_minor": 2
}
